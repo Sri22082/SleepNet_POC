{
 "cells": [
  {
   "cell_type": "code",
   "execution_count": 1,
   "id": "dee32898-607f-4f16-a8e2-ae2f2cf1879f",
   "metadata": {},
   "outputs": [
    {
     "ename": "ModuleNotFoundError",
     "evalue": "No module named 'mne'",
     "output_type": "error",
     "traceback": [
      "\u001b[1;31m---------------------------------------------------------------------------\u001b[0m",
      "\u001b[1;31mModuleNotFoundError\u001b[0m                       Traceback (most recent call last)",
      "Cell \u001b[1;32mIn[1], line 2\u001b[0m\n\u001b[0;32m      1\u001b[0m \u001b[38;5;28;01mimport\u001b[39;00m \u001b[38;5;21;01mnumpy\u001b[39;00m \u001b[38;5;28;01mas\u001b[39;00m \u001b[38;5;21;01mnp\u001b[39;00m\n\u001b[1;32m----> 2\u001b[0m \u001b[38;5;28;01mimport\u001b[39;00m \u001b[38;5;21;01mmne\u001b[39;00m\n\u001b[0;32m      3\u001b[0m \u001b[38;5;28;01mfrom\u001b[39;00m \u001b[38;5;21;01mmne\u001b[39;00m\u001b[38;5;21;01m.\u001b[39;00m\u001b[38;5;21;01mdatasets\u001b[39;00m\u001b[38;5;21;01m.\u001b[39;00m\u001b[38;5;21;01msleep_physionet\u001b[39;00m\u001b[38;5;21;01m.\u001b[39;00m\u001b[38;5;21;01mage\u001b[39;00m \u001b[38;5;28;01mimport\u001b[39;00m fetch_data\n\u001b[0;32m      4\u001b[0m \u001b[38;5;28;01mfrom\u001b[39;00m \u001b[38;5;21;01mscipy\u001b[39;00m\u001b[38;5;21;01m.\u001b[39;00m\u001b[38;5;21;01mstats\u001b[39;00m \u001b[38;5;28;01mimport\u001b[39;00m skew, kurtosis\n",
      "\u001b[1;31mModuleNotFoundError\u001b[0m: No module named 'mne'"
     ]
    }
   ],
   "source": [
    "import numpy as np\n",
    "import mne\n",
    "from mne.datasets.sleep_physionet.age import fetch_data\n",
    "from scipy.stats import skew, kurtosis\n",
    "from sklearn.model_selection import train_test_split\n",
    "from sklearn.metrics import accuracy_score\n",
    "from sklearn.preprocessing import StandardScaler\n",
    "import numpy as np\n",
    "\n",
    "\n",
    "# Annotation descriptions to event ID mapping\n",
    "annotation_desc_2_event_id = {\n",
    "    \"Sleep stage W\": 1,\n",
    "    \"Sleep stage 1\": 2,\n",
    "    \"Sleep stage 2\": 3,\n",
    "    \"Sleep stage 3\": 4,\n",
    "    \"Sleep stage 4\": 4,\n",
    "    \"Sleep stage R\": 5,\n",
    "}\n",
    "\"\"\"\n",
    "The function is useful in EEG analysis for feature engineering, where statistical characteristics\n",
    "of the power spectral distribution across different frequency bands may correlate with various \n",
    "neurological conditions or states. The output is used as input for machine learning models \n",
    "in EEG-based studies.\n",
    "\"\"\"\n",
    "def enhanced_eeg_power_band(epochs):\n",
    "    # Frequency bands for common ranges\n",
    "    FREQ_BANDS = {\n",
    "        \"delta\": [0.5, 4.5],\n",
    "        \"theta\": [4.5, 8.5],\n",
    "        \"alpha\": [8.5, 11.5],\n",
    "        \"sigma\": [11.5, 15.5],\n",
    "        \"beta\": [15.5, 30],\n",
    "    }\n",
    "   # Compute the power spectral density for EEG signals\n",
    "   # compute_psd returns a spectrum object from which data\n",
    "   # (psds) and corresponding frequencies (freqs) are \n",
    "   # extracted using spectrum.get_data\n",
    "    \n",
    "    spectrum = epochs.compute_psd(picks='eeg', fmin=0.5, fmax=30.0)\n",
    "    psds, freqs = spectrum.get_data(return_freqs=True)\n",
    "    \n",
    "   # This normalization is important for removing variability due to different signal strengths and \n",
    "   # focusing on the distribution shape across frequencies. \n",
    "    psds /= np.sum(psds, axis=-1, keepdims=True)  # Normalization\n",
    "    \"\"\"\n",
    "    The below code loops over each frequency band defined in FREQ_BANDS. For each band:\n",
    "    psds_band extracts the PSD values that fall within the current band's frequency range.\n",
    "    mean_psds_band calculates the mean of these PSD values along the frequency axis.\n",
    "    skew_psds_band computes the skewness of these PSD values, which is a measure of the asymmetry of the distribution.\n",
    "    kurtosis_psds_band computes the kurtosis of these PSD values, indicating the tailedness of the distribution.\n",
    "    These three statistical measures are then concatenated along the feature axis (axis=1), forming a feature vector for the current band.\n",
    "    This feature vector is appended to the list X.\n",
    "\n",
    "    \"\"\"\n",
    "\n",
    "    X = []\n",
    "    # Extract mean, skew, and kurtosis for each band\n",
    "    for fmin, fmax in FREQ_BANDS.values():\n",
    "        psds_band = psds[:, :, (freqs >= fmin) & (freqs < fmax)]\n",
    "        mean_psds_band = psds_band.mean(axis=-1)\n",
    "        skew_psds_band = skew(psds_band, axis=-1)\n",
    "        kurtosis_psds_band = kurtosis(psds_band, axis=-1)\n",
    "        features = np.concatenate([mean_psds_band, skew_psds_band, kurtosis_psds_band], axis=1)\n",
    "        X.append(features.reshape(len(psds), -1))\n",
    "\n",
    "    return np.concatenate(X, axis=1)\n",
    "\n",
    "# Load data\n",
    "def load_and_preprocess_data(x):\n",
    "    subjects = range(int(x))\n",
    "    all_features = []\n",
    "    all_labels = []\n",
    "    epochs_all =[]\n",
    "    for subject in subjects:\n",
    "        files = fetch_data(subjects=[subject], recording=[1])\n",
    "        raw = mne.io.read_raw_edf(files[0][0], preload=True)\n",
    "        raw.filter(0.5, 30, fir_design='firwin')\n",
    "        annots = mne.read_annotations(files[0][1])\n",
    "        raw.set_annotations(annots)\n",
    "        events, event_id  = mne.events_from_annotations(raw, event_id=annotation_desc_2_event_id, chunk_duration=30.0)\n",
    "        tmax = 30.0 - 1.0 / raw.info[\"sfreq\"]  # tmax in included\n",
    "        epochs =mne.Epochs(raw, events, event_id=annotation_desc_2_event_id, tmin=0., tmax=tmax, baseline=None)\n",
    "        #epochs = enhanced_eeg_power_band(epo)\n",
    "        # epochs_all.append(epo)\n",
    "        labels = epochs.events[:, -1] - 1  # Adjust labels to be zero-indexed\n",
    "        y = epochs.get_data()\n",
    "        all_features.append(y)\n",
    "        all_labels.append(labels)\n",
    "    return np.concatenate(all_features), np.concatenate(all_labels) - 1  # Adjust labels to be zero-indexed\n",
    "\n"
   ]
  },
  {
   "cell_type": "code",
   "execution_count": 3,
   "id": "1fc7fd62-9437-495c-84a8-bfc251f563f2",
   "metadata": {},
   "outputs": [
    {
     "name": "stdout",
     "output_type": "stream",
     "text": [
      "Using default location ~/mne_data for PHYSIONET_SLEEP...\n",
      "Extracting EDF parameters from C:\\Users\\91908\\mne_data\\physionet-sleep-data\\SC4001E0-PSG.edf...\n",
      "EDF file detected\n",
      "Setting channel info structure...\n",
      "Creating raw.info structure...\n"
     ]
    },
    {
     "name": "stderr",
     "output_type": "stream",
     "text": [
      "C:\\Users\\91908\\anaconda3\\Lib\\site-packages\\paramiko\\transport.py:219: CryptographyDeprecationWarning: Blowfish has been deprecated and will be removed in a future release\n",
      "  \"class\": algorithms.Blowfish,\n",
      "C:\\Users\\91908\\AppData\\Local\\Temp\\ipykernel_48572\\2006941326.py:81: RuntimeWarning: Channels contain different highpass filters. Highest filter setting will be stored.\n",
      "  raw = mne.io.read_raw_edf(files[0][0], preload=True)\n",
      "C:\\Users\\91908\\AppData\\Local\\Temp\\ipykernel_48572\\2006941326.py:81: RuntimeWarning: Channels contain different lowpass filters. Lowest filter setting will be stored.\n",
      "  raw = mne.io.read_raw_edf(files[0][0], preload=True)\n",
      "C:\\Users\\91908\\AppData\\Local\\Temp\\ipykernel_48572\\2006941326.py:81: RuntimeWarning: Highpass cutoff frequency 16.0 is greater than lowpass cutoff frequency 0.7, setting values to 0 and Nyquist.\n",
      "  raw = mne.io.read_raw_edf(files[0][0], preload=True)\n"
     ]
    },
    {
     "name": "stdout",
     "output_type": "stream",
     "text": [
      "Reading 0 ... 7949999  =      0.000 ... 79499.990 secs...\n",
      "Filtering raw data in 1 contiguous segment\n",
      "Setting up band-pass filter from 0.5 - 30 Hz\n",
      "\n",
      "FIR filter parameters\n",
      "---------------------\n",
      "Designing a one-pass, zero-phase, non-causal bandpass filter:\n",
      "- Windowed time-domain design (firwin) method\n",
      "- Hamming window with 0.0194 passband ripple and 53 dB stopband attenuation\n",
      "- Lower passband edge: 0.50\n",
      "- Lower transition bandwidth: 0.50 Hz (-6 dB cutoff frequency: 0.25 Hz)\n",
      "- Upper passband edge: 30.00 Hz\n",
      "- Upper transition bandwidth: 7.50 Hz (-6 dB cutoff frequency: 33.75 Hz)\n",
      "- Filter length: 661 samples (6.610 s)\n",
      "\n"
     ]
    },
    {
     "name": "stderr",
     "output_type": "stream",
     "text": [
      "[Parallel(n_jobs=1)]: Using backend SequentialBackend with 1 concurrent workers.\n",
      "[Parallel(n_jobs=1)]: Done   1 out of   1 | elapsed:    0.3s remaining:    0.0s\n",
      "[Parallel(n_jobs=1)]: Done   2 out of   2 | elapsed:    0.6s remaining:    0.0s\n",
      "[Parallel(n_jobs=1)]: Done   3 out of   3 | elapsed:    1.0s remaining:    0.0s\n",
      "[Parallel(n_jobs=1)]: Done   4 out of   4 | elapsed:    1.3s remaining:    0.0s\n",
      "[Parallel(n_jobs=1)]: Done   7 out of   7 | elapsed:    2.4s finished\n",
      "C:\\Users\\91908\\AppData\\Local\\Temp\\ipykernel_48572\\2006941326.py:84: RuntimeWarning: Limited 1 annotation(s) that were expanding outside the data range.\n",
      "  raw.set_annotations(annots)\n"
     ]
    },
    {
     "name": "stdout",
     "output_type": "stream",
     "text": [
      "Used Annotations descriptions: ['Sleep stage 1', 'Sleep stage 2', 'Sleep stage 3', 'Sleep stage 4', 'Sleep stage R', 'Sleep stage W']\n",
      "Not setting metadata\n",
      "2650 matching events found\n",
      "No baseline correction applied\n",
      "0 projection items activated\n",
      "Using data from preloaded Raw for 2650 events and 3000 original time points ...\n",
      "0 bad epochs dropped\n",
      "Using default location ~/mne_data for PHYSIONET_SLEEP...\n",
      "Extracting EDF parameters from C:\\Users\\91908\\mne_data\\physionet-sleep-data\\SC4011E0-PSG.edf...\n",
      "EDF file detected\n",
      "Setting channel info structure...\n",
      "Creating raw.info structure...\n",
      "Reading 0 ... 8405999  =      0.000 ... 84059.990 secs...\n"
     ]
    },
    {
     "name": "stderr",
     "output_type": "stream",
     "text": [
      "C:\\Users\\91908\\AppData\\Local\\Temp\\ipykernel_48572\\2006941326.py:81: RuntimeWarning: Channels contain different highpass filters. Highest filter setting will be stored.\n",
      "  raw = mne.io.read_raw_edf(files[0][0], preload=True)\n",
      "C:\\Users\\91908\\AppData\\Local\\Temp\\ipykernel_48572\\2006941326.py:81: RuntimeWarning: Channels contain different lowpass filters. Lowest filter setting will be stored.\n",
      "  raw = mne.io.read_raw_edf(files[0][0], preload=True)\n",
      "C:\\Users\\91908\\AppData\\Local\\Temp\\ipykernel_48572\\2006941326.py:81: RuntimeWarning: Highpass cutoff frequency 16.0 is greater than lowpass cutoff frequency 0.7, setting values to 0 and Nyquist.\n",
      "  raw = mne.io.read_raw_edf(files[0][0], preload=True)\n"
     ]
    },
    {
     "name": "stdout",
     "output_type": "stream",
     "text": [
      "Filtering raw data in 1 contiguous segment\n",
      "Setting up band-pass filter from 0.5 - 30 Hz\n",
      "\n",
      "FIR filter parameters\n",
      "---------------------\n",
      "Designing a one-pass, zero-phase, non-causal bandpass filter:\n",
      "- Windowed time-domain design (firwin) method\n",
      "- Hamming window with 0.0194 passband ripple and 53 dB stopband attenuation\n",
      "- Lower passband edge: 0.50\n",
      "- Lower transition bandwidth: 0.50 Hz (-6 dB cutoff frequency: 0.25 Hz)\n",
      "- Upper passband edge: 30.00 Hz\n",
      "- Upper transition bandwidth: 7.50 Hz (-6 dB cutoff frequency: 33.75 Hz)\n",
      "- Filter length: 661 samples (6.610 s)\n",
      "\n"
     ]
    },
    {
     "name": "stderr",
     "output_type": "stream",
     "text": [
      "[Parallel(n_jobs=1)]: Using backend SequentialBackend with 1 concurrent workers.\n",
      "[Parallel(n_jobs=1)]: Done   1 out of   1 | elapsed:    0.5s remaining:    0.0s\n",
      "[Parallel(n_jobs=1)]: Done   2 out of   2 | elapsed:    0.9s remaining:    0.0s\n",
      "[Parallel(n_jobs=1)]: Done   3 out of   3 | elapsed:    1.3s remaining:    0.0s\n",
      "[Parallel(n_jobs=1)]: Done   4 out of   4 | elapsed:    1.7s remaining:    0.0s\n",
      "[Parallel(n_jobs=1)]: Done   7 out of   7 | elapsed:    2.9s finished\n",
      "C:\\Users\\91908\\AppData\\Local\\Temp\\ipykernel_48572\\2006941326.py:84: RuntimeWarning: Limited 1 annotation(s) that were expanding outside the data range.\n",
      "  raw.set_annotations(annots)\n"
     ]
    },
    {
     "name": "stdout",
     "output_type": "stream",
     "text": [
      "Used Annotations descriptions: ['Sleep stage 1', 'Sleep stage 2', 'Sleep stage 3', 'Sleep stage 4', 'Sleep stage R', 'Sleep stage W']\n",
      "Not setting metadata\n",
      "2802 matching events found\n",
      "No baseline correction applied\n",
      "0 projection items activated\n",
      "Using data from preloaded Raw for 2802 events and 3000 original time points ...\n",
      "0 bad epochs dropped\n"
     ]
    }
   ],
   "source": [
    "X, y = load_and_preprocess_data(10)\n"
   ]
  },
  {
   "cell_type": "code",
   "execution_count": 4,
   "id": "23e043d7-f62d-4f13-b9f2-6a3da8a38fcf",
   "metadata": {},
   "outputs": [
    {
     "data": {
      "text/plain": [
       "(5452, 7, 3000)"
      ]
     },
     "execution_count": 4,
     "metadata": {},
     "output_type": "execute_result"
    }
   ],
   "source": [
    "\n",
    "# pip install xgboost\n",
    "X.shape"
   ]
  },
  {
   "cell_type": "code",
   "execution_count": 32,
   "id": "5da640e3-9e64-4560-9c1b-9d3d4488d66b",
   "metadata": {},
   "outputs": [
    {
     "data": {
      "text/plain": [
       "array([0, 1, 2, 3, 4])"
      ]
     },
     "execution_count": 32,
     "metadata": {},
     "output_type": "execute_result"
    }
   ],
   "source": [
    "np.unique(y_train_res)"
   ]
  },
  {
   "cell_type": "code",
   "execution_count": 6,
   "id": "9ab311ad-982d-403d-853c-f33178ff11b9",
   "metadata": {},
   "outputs": [],
   "source": [
    "y = y+1\n",
    "X_train, X_test, y_train, y_test = train_test_split(X, y, test_size=0.2, random_state=42)\n",
    "from imblearn.over_sampling import SMOTE\n",
    "from sklearn.preprocessing import StandardScaler\n",
    "\n",
    "scaler = StandardScaler()\n",
    "X_train_scaled = scaler.fit_transform(X_train.reshape(X_train.shape[0], -1)).reshape(X_train.shape)\n",
    "# X_train_scaled = scaler.fit_transform(X_train)\n",
    "X_test_scaled = scaler.transform(X_test.reshape(X_test.shape[0], -1)).reshape(X_test.shape)\n",
    "\n"
   ]
  },
  {
   "cell_type": "code",
   "execution_count": 7,
   "id": "14e2739c-054c-4739-be18-459846bc4a0b",
   "metadata": {},
   "outputs": [
    {
     "data": {
      "text/plain": [
       "(4361, 7, 3000)"
      ]
     },
     "execution_count": 7,
     "metadata": {},
     "output_type": "execute_result"
    }
   ],
   "source": [
    "X_train_scaled.shape"
   ]
  },
  {
   "cell_type": "code",
   "execution_count": 68,
   "id": "db3c7bb8-cbfa-4c39-8431-391f6e4a76dd",
   "metadata": {},
   "outputs": [],
   "source": [
    "# X_train_reshaped.shape"
   ]
  },
  {
   "cell_type": "code",
   "execution_count": null,
   "id": "6ab23bb6-c54d-42a7-9b94-d141aa5c8e40",
   "metadata": {},
   "outputs": [],
   "source": []
  },
  {
   "cell_type": "code",
   "execution_count": 8,
   "id": "53c62f29-e0d0-4718-af1c-7fbea2e68c9b",
   "metadata": {},
   "outputs": [],
   "source": [
    "import numpy as np\n",
    "from imblearn.over_sampling import SMOTE\n",
    "\n",
    "# Assuming X_train is your features array of shape (1051, 7, 3001)\n",
    "# and y_train is your target array of shape (1051,)\n",
    "\n",
    "# Reshape X_train from 3D to 2D\n",
    "X_train_reshaped = X_train_scaled.reshape(X_train.shape[0], -1)  \n",
    "# Initialize SMOTE\n",
    "smote = SMOTE()\n",
    "\n",
    "# Apply SMOTE\n",
    "X_train_resampled, y_train_resampled = smote.fit_resample(X_train_reshaped, y_train)\n",
    "\n",
    "# Optional: Reshape X_train_resampled back to 3D if your model requires 3D input\n",
    "# This step depends on whether your model accepts 3D data directly\n",
    "X_train_resampled_3d = X_train_resampled.reshape(-1, X_train_scaled.shape[1], X_train_scaled.shape[2])\n",
    "\n",
    "# Now, X_train_resampled_3d and y_train_resampled can be used for further modeling\n"
   ]
  },
  {
   "cell_type": "code",
   "execution_count": 9,
   "id": "63094054-6580-4ee6-bce1-3a5eb0aeb2b9",
   "metadata": {},
   "outputs": [],
   "source": [
    "X_train_res= X_train_resampled_3d\n",
    "y_train_res = y_train_resampled"
   ]
  },
  {
   "cell_type": "code",
   "execution_count": 9,
   "id": "54746a23-4465-4ab4-981b-fb285d43a33e",
   "metadata": {},
   "outputs": [],
   "source": [
    "# X_train_res = X_train_res[..., np.newaxis] \n",
    "# X_test_scaled =  X_test_scaled[..., np.newaxis] "
   ]
  },
  {
   "cell_type": "code",
   "execution_count": 10,
   "id": "5fbe1c33-d37a-4808-a02f-dc41fecb6cae",
   "metadata": {},
   "outputs": [
    {
     "data": {
      "text/plain": [
       "(15390, 7, 3000)"
      ]
     },
     "execution_count": 10,
     "metadata": {},
     "output_type": "execute_result"
    }
   ],
   "source": [
    "X_train_res.shape"
   ]
  },
  {
   "cell_type": "code",
   "execution_count": 31,
   "id": "8219e48b-f837-4219-8020-c78c09d4b97e",
   "metadata": {},
   "outputs": [
    {
     "data": {
      "text/plain": [
       "(15390,)"
      ]
     },
     "execution_count": 31,
     "metadata": {},
     "output_type": "execute_result"
    }
   ],
   "source": [
    "y_train_res.shape"
   ]
  },
  {
   "cell_type": "code",
   "execution_count": 49,
   "id": "736b9a69-68ed-46c7-8784-8aff382cf490",
   "metadata": {},
   "outputs": [
    {
     "data": {
      "text/html": [
       "<pre style=\"white-space:pre;overflow-x:auto;line-height:normal;font-family:Menlo,'DejaVu Sans Mono',consolas,'Courier New',monospace\"><span style=\"font-weight: bold\">Model: \"functional_11\"</span>\n",
       "</pre>\n"
      ],
      "text/plain": [
       "\u001b[1mModel: \"functional_11\"\u001b[0m\n"
      ]
     },
     "metadata": {},
     "output_type": "display_data"
    },
    {
     "data": {
      "text/html": [
       "<pre style=\"white-space:pre;overflow-x:auto;line-height:normal;font-family:Menlo,'DejaVu Sans Mono',consolas,'Courier New',monospace\">┏━━━━━━━━━━━━━━━━━━━━━┳━━━━━━━━━━━━━━━━━━━┳━━━━━━━━━━━━┳━━━━━━━━━━━━━━━━━━━┓\n",
       "┃<span style=\"font-weight: bold\"> Layer (type)        </span>┃<span style=\"font-weight: bold\"> Output Shape      </span>┃<span style=\"font-weight: bold\">    Param # </span>┃<span style=\"font-weight: bold\"> Connected to      </span>┃\n",
       "┡━━━━━━━━━━━━━━━━━━━━━╇━━━━━━━━━━━━━━━━━━━╇━━━━━━━━━━━━╇━━━━━━━━━━━━━━━━━━━┩\n",
       "│ input_layer_20      │ (<span style=\"color: #00d7ff; text-decoration-color: #00d7ff\">None</span>, <span style=\"color: #00af00; text-decoration-color: #00af00\">3000</span>, <span style=\"color: #00af00; text-decoration-color: #00af00\">7</span>)   │          <span style=\"color: #00af00; text-decoration-color: #00af00\">0</span> │ -                 │\n",
       "│ (<span style=\"color: #0087ff; text-decoration-color: #0087ff\">InputLayer</span>)        │                   │            │                   │\n",
       "├─────────────────────┼───────────────────┼────────────┼───────────────────┤\n",
       "│ conv1d_127 (<span style=\"color: #0087ff; text-decoration-color: #0087ff\">Conv1D</span>) │ (<span style=\"color: #00d7ff; text-decoration-color: #00d7ff\">None</span>, <span style=\"color: #00af00; text-decoration-color: #00af00\">3000</span>, <span style=\"color: #00af00; text-decoration-color: #00af00\">64</span>)  │      <span style=\"color: #00af00; text-decoration-color: #00af00\">1,408</span> │ input_layer_20[<span style=\"color: #00af00; text-decoration-color: #00af00\">0</span>… │\n",
       "├─────────────────────┼───────────────────┼────────────┼───────────────────┤\n",
       "│ conv1d_128 (<span style=\"color: #0087ff; text-decoration-color: #0087ff\">Conv1D</span>) │ (<span style=\"color: #00d7ff; text-decoration-color: #00d7ff\">None</span>, <span style=\"color: #00af00; text-decoration-color: #00af00\">3000</span>, <span style=\"color: #00af00; text-decoration-color: #00af00\">64</span>)  │     <span style=\"color: #00af00; text-decoration-color: #00af00\">12,352</span> │ conv1d_127[<span style=\"color: #00af00; text-decoration-color: #00af00\">0</span>][<span style=\"color: #00af00; text-decoration-color: #00af00\">0</span>]  │\n",
       "├─────────────────────┼───────────────────┼────────────┼───────────────────┤\n",
       "│ max_pooling1d_31    │ (<span style=\"color: #00d7ff; text-decoration-color: #00d7ff\">None</span>, <span style=\"color: #00af00; text-decoration-color: #00af00\">1500</span>, <span style=\"color: #00af00; text-decoration-color: #00af00\">64</span>)  │          <span style=\"color: #00af00; text-decoration-color: #00af00\">0</span> │ conv1d_128[<span style=\"color: #00af00; text-decoration-color: #00af00\">0</span>][<span style=\"color: #00af00; text-decoration-color: #00af00\">0</span>]  │\n",
       "│ (<span style=\"color: #0087ff; text-decoration-color: #0087ff\">MaxPooling1D</span>)      │                   │            │                   │\n",
       "├─────────────────────┼───────────────────┼────────────┼───────────────────┤\n",
       "│ conv1d_129 (<span style=\"color: #0087ff; text-decoration-color: #0087ff\">Conv1D</span>) │ (<span style=\"color: #00d7ff; text-decoration-color: #00d7ff\">None</span>, <span style=\"color: #00af00; text-decoration-color: #00af00\">1500</span>, <span style=\"color: #00af00; text-decoration-color: #00af00\">128</span>) │     <span style=\"color: #00af00; text-decoration-color: #00af00\">24,704</span> │ max_pooling1d_31… │\n",
       "├─────────────────────┼───────────────────┼────────────┼───────────────────┤\n",
       "│ conv1d_130 (<span style=\"color: #0087ff; text-decoration-color: #0087ff\">Conv1D</span>) │ (<span style=\"color: #00d7ff; text-decoration-color: #00d7ff\">None</span>, <span style=\"color: #00af00; text-decoration-color: #00af00\">1500</span>, <span style=\"color: #00af00; text-decoration-color: #00af00\">128</span>) │     <span style=\"color: #00af00; text-decoration-color: #00af00\">49,280</span> │ conv1d_129[<span style=\"color: #00af00; text-decoration-color: #00af00\">0</span>][<span style=\"color: #00af00; text-decoration-color: #00af00\">0</span>]  │\n",
       "├─────────────────────┼───────────────────┼────────────┼───────────────────┤\n",
       "│ max_pooling1d_32    │ (<span style=\"color: #00d7ff; text-decoration-color: #00d7ff\">None</span>, <span style=\"color: #00af00; text-decoration-color: #00af00\">750</span>, <span style=\"color: #00af00; text-decoration-color: #00af00\">128</span>)  │          <span style=\"color: #00af00; text-decoration-color: #00af00\">0</span> │ conv1d_130[<span style=\"color: #00af00; text-decoration-color: #00af00\">0</span>][<span style=\"color: #00af00; text-decoration-color: #00af00\">0</span>]  │\n",
       "│ (<span style=\"color: #0087ff; text-decoration-color: #0087ff\">MaxPooling1D</span>)      │                   │            │                   │\n",
       "├─────────────────────┼───────────────────┼────────────┼───────────────────┤\n",
       "│ conv1d_131 (<span style=\"color: #0087ff; text-decoration-color: #0087ff\">Conv1D</span>) │ (<span style=\"color: #00d7ff; text-decoration-color: #00d7ff\">None</span>, <span style=\"color: #00af00; text-decoration-color: #00af00\">750</span>, <span style=\"color: #00af00; text-decoration-color: #00af00\">256</span>)  │     <span style=\"color: #00af00; text-decoration-color: #00af00\">98,560</span> │ max_pooling1d_32… │\n",
       "├─────────────────────┼───────────────────┼────────────┼───────────────────┤\n",
       "│ conv1d_132 (<span style=\"color: #0087ff; text-decoration-color: #0087ff\">Conv1D</span>) │ (<span style=\"color: #00d7ff; text-decoration-color: #00d7ff\">None</span>, <span style=\"color: #00af00; text-decoration-color: #00af00\">750</span>, <span style=\"color: #00af00; text-decoration-color: #00af00\">256</span>)  │    <span style=\"color: #00af00; text-decoration-color: #00af00\">196,864</span> │ conv1d_131[<span style=\"color: #00af00; text-decoration-color: #00af00\">0</span>][<span style=\"color: #00af00; text-decoration-color: #00af00\">0</span>]  │\n",
       "├─────────────────────┼───────────────────┼────────────┼───────────────────┤\n",
       "│ max_pooling1d_33    │ (<span style=\"color: #00d7ff; text-decoration-color: #00d7ff\">None</span>, <span style=\"color: #00af00; text-decoration-color: #00af00\">375</span>, <span style=\"color: #00af00; text-decoration-color: #00af00\">256</span>)  │          <span style=\"color: #00af00; text-decoration-color: #00af00\">0</span> │ conv1d_132[<span style=\"color: #00af00; text-decoration-color: #00af00\">0</span>][<span style=\"color: #00af00; text-decoration-color: #00af00\">0</span>]  │\n",
       "│ (<span style=\"color: #0087ff; text-decoration-color: #0087ff\">MaxPooling1D</span>)      │                   │            │                   │\n",
       "├─────────────────────┼───────────────────┼────────────┼───────────────────┤\n",
       "│ conv1d_133 (<span style=\"color: #0087ff; text-decoration-color: #0087ff\">Conv1D</span>) │ (<span style=\"color: #00d7ff; text-decoration-color: #00d7ff\">None</span>, <span style=\"color: #00af00; text-decoration-color: #00af00\">375</span>, <span style=\"color: #00af00; text-decoration-color: #00af00\">512</span>)  │    <span style=\"color: #00af00; text-decoration-color: #00af00\">393,728</span> │ max_pooling1d_33… │\n",
       "├─────────────────────┼───────────────────┼────────────┼───────────────────┤\n",
       "│ conv1d_134 (<span style=\"color: #0087ff; text-decoration-color: #0087ff\">Conv1D</span>) │ (<span style=\"color: #00d7ff; text-decoration-color: #00d7ff\">None</span>, <span style=\"color: #00af00; text-decoration-color: #00af00\">375</span>, <span style=\"color: #00af00; text-decoration-color: #00af00\">512</span>)  │    <span style=\"color: #00af00; text-decoration-color: #00af00\">786,944</span> │ conv1d_133[<span style=\"color: #00af00; text-decoration-color: #00af00\">0</span>][<span style=\"color: #00af00; text-decoration-color: #00af00\">0</span>]  │\n",
       "├─────────────────────┼───────────────────┼────────────┼───────────────────┤\n",
       "│ up_sampling1d_22    │ (<span style=\"color: #00d7ff; text-decoration-color: #00d7ff\">None</span>, <span style=\"color: #00af00; text-decoration-color: #00af00\">750</span>, <span style=\"color: #00af00; text-decoration-color: #00af00\">512</span>)  │          <span style=\"color: #00af00; text-decoration-color: #00af00\">0</span> │ conv1d_134[<span style=\"color: #00af00; text-decoration-color: #00af00\">0</span>][<span style=\"color: #00af00; text-decoration-color: #00af00\">0</span>]  │\n",
       "│ (<span style=\"color: #0087ff; text-decoration-color: #0087ff\">UpSampling1D</span>)      │                   │            │                   │\n",
       "├─────────────────────┼───────────────────┼────────────┼───────────────────┤\n",
       "│ concatenate_27      │ (<span style=\"color: #00d7ff; text-decoration-color: #00d7ff\">None</span>, <span style=\"color: #00af00; text-decoration-color: #00af00\">750</span>, <span style=\"color: #00af00; text-decoration-color: #00af00\">768</span>)  │          <span style=\"color: #00af00; text-decoration-color: #00af00\">0</span> │ up_sampling1d_22… │\n",
       "│ (<span style=\"color: #0087ff; text-decoration-color: #0087ff\">Concatenate</span>)       │                   │            │ conv1d_132[<span style=\"color: #00af00; text-decoration-color: #00af00\">0</span>][<span style=\"color: #00af00; text-decoration-color: #00af00\">0</span>]  │\n",
       "├─────────────────────┼───────────────────┼────────────┼───────────────────┤\n",
       "│ conv1d_135 (<span style=\"color: #0087ff; text-decoration-color: #0087ff\">Conv1D</span>) │ (<span style=\"color: #00d7ff; text-decoration-color: #00d7ff\">None</span>, <span style=\"color: #00af00; text-decoration-color: #00af00\">750</span>, <span style=\"color: #00af00; text-decoration-color: #00af00\">256</span>)  │    <span style=\"color: #00af00; text-decoration-color: #00af00\">590,080</span> │ concatenate_27[<span style=\"color: #00af00; text-decoration-color: #00af00\">0</span>… │\n",
       "├─────────────────────┼───────────────────┼────────────┼───────────────────┤\n",
       "│ conv1d_136 (<span style=\"color: #0087ff; text-decoration-color: #0087ff\">Conv1D</span>) │ (<span style=\"color: #00d7ff; text-decoration-color: #00d7ff\">None</span>, <span style=\"color: #00af00; text-decoration-color: #00af00\">750</span>, <span style=\"color: #00af00; text-decoration-color: #00af00\">256</span>)  │    <span style=\"color: #00af00; text-decoration-color: #00af00\">196,864</span> │ conv1d_135[<span style=\"color: #00af00; text-decoration-color: #00af00\">0</span>][<span style=\"color: #00af00; text-decoration-color: #00af00\">0</span>]  │\n",
       "├─────────────────────┼───────────────────┼────────────┼───────────────────┤\n",
       "│ up_sampling1d_23    │ (<span style=\"color: #00d7ff; text-decoration-color: #00d7ff\">None</span>, <span style=\"color: #00af00; text-decoration-color: #00af00\">1500</span>, <span style=\"color: #00af00; text-decoration-color: #00af00\">256</span>) │          <span style=\"color: #00af00; text-decoration-color: #00af00\">0</span> │ conv1d_136[<span style=\"color: #00af00; text-decoration-color: #00af00\">0</span>][<span style=\"color: #00af00; text-decoration-color: #00af00\">0</span>]  │\n",
       "│ (<span style=\"color: #0087ff; text-decoration-color: #0087ff\">UpSampling1D</span>)      │                   │            │                   │\n",
       "├─────────────────────┼───────────────────┼────────────┼───────────────────┤\n",
       "│ concatenate_28      │ (<span style=\"color: #00d7ff; text-decoration-color: #00d7ff\">None</span>, <span style=\"color: #00af00; text-decoration-color: #00af00\">1500</span>, <span style=\"color: #00af00; text-decoration-color: #00af00\">384</span>) │          <span style=\"color: #00af00; text-decoration-color: #00af00\">0</span> │ up_sampling1d_23… │\n",
       "│ (<span style=\"color: #0087ff; text-decoration-color: #0087ff\">Concatenate</span>)       │                   │            │ conv1d_130[<span style=\"color: #00af00; text-decoration-color: #00af00\">0</span>][<span style=\"color: #00af00; text-decoration-color: #00af00\">0</span>]  │\n",
       "├─────────────────────┼───────────────────┼────────────┼───────────────────┤\n",
       "│ conv1d_137 (<span style=\"color: #0087ff; text-decoration-color: #0087ff\">Conv1D</span>) │ (<span style=\"color: #00d7ff; text-decoration-color: #00d7ff\">None</span>, <span style=\"color: #00af00; text-decoration-color: #00af00\">1500</span>, <span style=\"color: #00af00; text-decoration-color: #00af00\">128</span>) │    <span style=\"color: #00af00; text-decoration-color: #00af00\">147,584</span> │ concatenate_28[<span style=\"color: #00af00; text-decoration-color: #00af00\">0</span>… │\n",
       "├─────────────────────┼───────────────────┼────────────┼───────────────────┤\n",
       "│ conv1d_138 (<span style=\"color: #0087ff; text-decoration-color: #0087ff\">Conv1D</span>) │ (<span style=\"color: #00d7ff; text-decoration-color: #00d7ff\">None</span>, <span style=\"color: #00af00; text-decoration-color: #00af00\">1500</span>, <span style=\"color: #00af00; text-decoration-color: #00af00\">128</span>) │     <span style=\"color: #00af00; text-decoration-color: #00af00\">49,280</span> │ conv1d_137[<span style=\"color: #00af00; text-decoration-color: #00af00\">0</span>][<span style=\"color: #00af00; text-decoration-color: #00af00\">0</span>]  │\n",
       "├─────────────────────┼───────────────────┼────────────┼───────────────────┤\n",
       "│ up_sampling1d_24    │ (<span style=\"color: #00d7ff; text-decoration-color: #00d7ff\">None</span>, <span style=\"color: #00af00; text-decoration-color: #00af00\">3000</span>, <span style=\"color: #00af00; text-decoration-color: #00af00\">128</span>) │          <span style=\"color: #00af00; text-decoration-color: #00af00\">0</span> │ conv1d_138[<span style=\"color: #00af00; text-decoration-color: #00af00\">0</span>][<span style=\"color: #00af00; text-decoration-color: #00af00\">0</span>]  │\n",
       "│ (<span style=\"color: #0087ff; text-decoration-color: #0087ff\">UpSampling1D</span>)      │                   │            │                   │\n",
       "├─────────────────────┼───────────────────┼────────────┼───────────────────┤\n",
       "│ concatenate_29      │ (<span style=\"color: #00d7ff; text-decoration-color: #00d7ff\">None</span>, <span style=\"color: #00af00; text-decoration-color: #00af00\">3000</span>, <span style=\"color: #00af00; text-decoration-color: #00af00\">192</span>) │          <span style=\"color: #00af00; text-decoration-color: #00af00\">0</span> │ up_sampling1d_24… │\n",
       "│ (<span style=\"color: #0087ff; text-decoration-color: #0087ff\">Concatenate</span>)       │                   │            │ conv1d_128[<span style=\"color: #00af00; text-decoration-color: #00af00\">0</span>][<span style=\"color: #00af00; text-decoration-color: #00af00\">0</span>]  │\n",
       "├─────────────────────┼───────────────────┼────────────┼───────────────────┤\n",
       "│ conv1d_139 (<span style=\"color: #0087ff; text-decoration-color: #0087ff\">Conv1D</span>) │ (<span style=\"color: #00d7ff; text-decoration-color: #00d7ff\">None</span>, <span style=\"color: #00af00; text-decoration-color: #00af00\">3000</span>, <span style=\"color: #00af00; text-decoration-color: #00af00\">64</span>)  │     <span style=\"color: #00af00; text-decoration-color: #00af00\">36,928</span> │ concatenate_29[<span style=\"color: #00af00; text-decoration-color: #00af00\">0</span>… │\n",
       "├─────────────────────┼───────────────────┼────────────┼───────────────────┤\n",
       "│ conv1d_140 (<span style=\"color: #0087ff; text-decoration-color: #0087ff\">Conv1D</span>) │ (<span style=\"color: #00d7ff; text-decoration-color: #00d7ff\">None</span>, <span style=\"color: #00af00; text-decoration-color: #00af00\">3000</span>, <span style=\"color: #00af00; text-decoration-color: #00af00\">64</span>)  │     <span style=\"color: #00af00; text-decoration-color: #00af00\">12,352</span> │ conv1d_139[<span style=\"color: #00af00; text-decoration-color: #00af00\">0</span>][<span style=\"color: #00af00; text-decoration-color: #00af00\">0</span>]  │\n",
       "├─────────────────────┼───────────────────┼────────────┼───────────────────┤\n",
       "│ global_average_poo… │ (<span style=\"color: #00d7ff; text-decoration-color: #00d7ff\">None</span>, <span style=\"color: #00af00; text-decoration-color: #00af00\">64</span>)        │          <span style=\"color: #00af00; text-decoration-color: #00af00\">0</span> │ conv1d_140[<span style=\"color: #00af00; text-decoration-color: #00af00\">0</span>][<span style=\"color: #00af00; text-decoration-color: #00af00\">0</span>]  │\n",
       "│ (<span style=\"color: #0087ff; text-decoration-color: #0087ff\">GlobalAveragePool…</span> │                   │            │                   │\n",
       "├─────────────────────┼───────────────────┼────────────┼───────────────────┤\n",
       "│ dense_3 (<span style=\"color: #0087ff; text-decoration-color: #0087ff\">Dense</span>)     │ (<span style=\"color: #00d7ff; text-decoration-color: #00d7ff\">None</span>, <span style=\"color: #00af00; text-decoration-color: #00af00\">5</span>)         │        <span style=\"color: #00af00; text-decoration-color: #00af00\">325</span> │ global_average_p… │\n",
       "└─────────────────────┴───────────────────┴────────────┴───────────────────┘\n",
       "</pre>\n"
      ],
      "text/plain": [
       "┏━━━━━━━━━━━━━━━━━━━━━┳━━━━━━━━━━━━━━━━━━━┳━━━━━━━━━━━━┳━━━━━━━━━━━━━━━━━━━┓\n",
       "┃\u001b[1m \u001b[0m\u001b[1mLayer (type)       \u001b[0m\u001b[1m \u001b[0m┃\u001b[1m \u001b[0m\u001b[1mOutput Shape     \u001b[0m\u001b[1m \u001b[0m┃\u001b[1m \u001b[0m\u001b[1m   Param #\u001b[0m\u001b[1m \u001b[0m┃\u001b[1m \u001b[0m\u001b[1mConnected to     \u001b[0m\u001b[1m \u001b[0m┃\n",
       "┡━━━━━━━━━━━━━━━━━━━━━╇━━━━━━━━━━━━━━━━━━━╇━━━━━━━━━━━━╇━━━━━━━━━━━━━━━━━━━┩\n",
       "│ input_layer_20      │ (\u001b[38;5;45mNone\u001b[0m, \u001b[38;5;34m3000\u001b[0m, \u001b[38;5;34m7\u001b[0m)   │          \u001b[38;5;34m0\u001b[0m │ -                 │\n",
       "│ (\u001b[38;5;33mInputLayer\u001b[0m)        │                   │            │                   │\n",
       "├─────────────────────┼───────────────────┼────────────┼───────────────────┤\n",
       "│ conv1d_127 (\u001b[38;5;33mConv1D\u001b[0m) │ (\u001b[38;5;45mNone\u001b[0m, \u001b[38;5;34m3000\u001b[0m, \u001b[38;5;34m64\u001b[0m)  │      \u001b[38;5;34m1,408\u001b[0m │ input_layer_20[\u001b[38;5;34m0\u001b[0m… │\n",
       "├─────────────────────┼───────────────────┼────────────┼───────────────────┤\n",
       "│ conv1d_128 (\u001b[38;5;33mConv1D\u001b[0m) │ (\u001b[38;5;45mNone\u001b[0m, \u001b[38;5;34m3000\u001b[0m, \u001b[38;5;34m64\u001b[0m)  │     \u001b[38;5;34m12,352\u001b[0m │ conv1d_127[\u001b[38;5;34m0\u001b[0m][\u001b[38;5;34m0\u001b[0m]  │\n",
       "├─────────────────────┼───────────────────┼────────────┼───────────────────┤\n",
       "│ max_pooling1d_31    │ (\u001b[38;5;45mNone\u001b[0m, \u001b[38;5;34m1500\u001b[0m, \u001b[38;5;34m64\u001b[0m)  │          \u001b[38;5;34m0\u001b[0m │ conv1d_128[\u001b[38;5;34m0\u001b[0m][\u001b[38;5;34m0\u001b[0m]  │\n",
       "│ (\u001b[38;5;33mMaxPooling1D\u001b[0m)      │                   │            │                   │\n",
       "├─────────────────────┼───────────────────┼────────────┼───────────────────┤\n",
       "│ conv1d_129 (\u001b[38;5;33mConv1D\u001b[0m) │ (\u001b[38;5;45mNone\u001b[0m, \u001b[38;5;34m1500\u001b[0m, \u001b[38;5;34m128\u001b[0m) │     \u001b[38;5;34m24,704\u001b[0m │ max_pooling1d_31… │\n",
       "├─────────────────────┼───────────────────┼────────────┼───────────────────┤\n",
       "│ conv1d_130 (\u001b[38;5;33mConv1D\u001b[0m) │ (\u001b[38;5;45mNone\u001b[0m, \u001b[38;5;34m1500\u001b[0m, \u001b[38;5;34m128\u001b[0m) │     \u001b[38;5;34m49,280\u001b[0m │ conv1d_129[\u001b[38;5;34m0\u001b[0m][\u001b[38;5;34m0\u001b[0m]  │\n",
       "├─────────────────────┼───────────────────┼────────────┼───────────────────┤\n",
       "│ max_pooling1d_32    │ (\u001b[38;5;45mNone\u001b[0m, \u001b[38;5;34m750\u001b[0m, \u001b[38;5;34m128\u001b[0m)  │          \u001b[38;5;34m0\u001b[0m │ conv1d_130[\u001b[38;5;34m0\u001b[0m][\u001b[38;5;34m0\u001b[0m]  │\n",
       "│ (\u001b[38;5;33mMaxPooling1D\u001b[0m)      │                   │            │                   │\n",
       "├─────────────────────┼───────────────────┼────────────┼───────────────────┤\n",
       "│ conv1d_131 (\u001b[38;5;33mConv1D\u001b[0m) │ (\u001b[38;5;45mNone\u001b[0m, \u001b[38;5;34m750\u001b[0m, \u001b[38;5;34m256\u001b[0m)  │     \u001b[38;5;34m98,560\u001b[0m │ max_pooling1d_32… │\n",
       "├─────────────────────┼───────────────────┼────────────┼───────────────────┤\n",
       "│ conv1d_132 (\u001b[38;5;33mConv1D\u001b[0m) │ (\u001b[38;5;45mNone\u001b[0m, \u001b[38;5;34m750\u001b[0m, \u001b[38;5;34m256\u001b[0m)  │    \u001b[38;5;34m196,864\u001b[0m │ conv1d_131[\u001b[38;5;34m0\u001b[0m][\u001b[38;5;34m0\u001b[0m]  │\n",
       "├─────────────────────┼───────────────────┼────────────┼───────────────────┤\n",
       "│ max_pooling1d_33    │ (\u001b[38;5;45mNone\u001b[0m, \u001b[38;5;34m375\u001b[0m, \u001b[38;5;34m256\u001b[0m)  │          \u001b[38;5;34m0\u001b[0m │ conv1d_132[\u001b[38;5;34m0\u001b[0m][\u001b[38;5;34m0\u001b[0m]  │\n",
       "│ (\u001b[38;5;33mMaxPooling1D\u001b[0m)      │                   │            │                   │\n",
       "├─────────────────────┼───────────────────┼────────────┼───────────────────┤\n",
       "│ conv1d_133 (\u001b[38;5;33mConv1D\u001b[0m) │ (\u001b[38;5;45mNone\u001b[0m, \u001b[38;5;34m375\u001b[0m, \u001b[38;5;34m512\u001b[0m)  │    \u001b[38;5;34m393,728\u001b[0m │ max_pooling1d_33… │\n",
       "├─────────────────────┼───────────────────┼────────────┼───────────────────┤\n",
       "│ conv1d_134 (\u001b[38;5;33mConv1D\u001b[0m) │ (\u001b[38;5;45mNone\u001b[0m, \u001b[38;5;34m375\u001b[0m, \u001b[38;5;34m512\u001b[0m)  │    \u001b[38;5;34m786,944\u001b[0m │ conv1d_133[\u001b[38;5;34m0\u001b[0m][\u001b[38;5;34m0\u001b[0m]  │\n",
       "├─────────────────────┼───────────────────┼────────────┼───────────────────┤\n",
       "│ up_sampling1d_22    │ (\u001b[38;5;45mNone\u001b[0m, \u001b[38;5;34m750\u001b[0m, \u001b[38;5;34m512\u001b[0m)  │          \u001b[38;5;34m0\u001b[0m │ conv1d_134[\u001b[38;5;34m0\u001b[0m][\u001b[38;5;34m0\u001b[0m]  │\n",
       "│ (\u001b[38;5;33mUpSampling1D\u001b[0m)      │                   │            │                   │\n",
       "├─────────────────────┼───────────────────┼────────────┼───────────────────┤\n",
       "│ concatenate_27      │ (\u001b[38;5;45mNone\u001b[0m, \u001b[38;5;34m750\u001b[0m, \u001b[38;5;34m768\u001b[0m)  │          \u001b[38;5;34m0\u001b[0m │ up_sampling1d_22… │\n",
       "│ (\u001b[38;5;33mConcatenate\u001b[0m)       │                   │            │ conv1d_132[\u001b[38;5;34m0\u001b[0m][\u001b[38;5;34m0\u001b[0m]  │\n",
       "├─────────────────────┼───────────────────┼────────────┼───────────────────┤\n",
       "│ conv1d_135 (\u001b[38;5;33mConv1D\u001b[0m) │ (\u001b[38;5;45mNone\u001b[0m, \u001b[38;5;34m750\u001b[0m, \u001b[38;5;34m256\u001b[0m)  │    \u001b[38;5;34m590,080\u001b[0m │ concatenate_27[\u001b[38;5;34m0\u001b[0m… │\n",
       "├─────────────────────┼───────────────────┼────────────┼───────────────────┤\n",
       "│ conv1d_136 (\u001b[38;5;33mConv1D\u001b[0m) │ (\u001b[38;5;45mNone\u001b[0m, \u001b[38;5;34m750\u001b[0m, \u001b[38;5;34m256\u001b[0m)  │    \u001b[38;5;34m196,864\u001b[0m │ conv1d_135[\u001b[38;5;34m0\u001b[0m][\u001b[38;5;34m0\u001b[0m]  │\n",
       "├─────────────────────┼───────────────────┼────────────┼───────────────────┤\n",
       "│ up_sampling1d_23    │ (\u001b[38;5;45mNone\u001b[0m, \u001b[38;5;34m1500\u001b[0m, \u001b[38;5;34m256\u001b[0m) │          \u001b[38;5;34m0\u001b[0m │ conv1d_136[\u001b[38;5;34m0\u001b[0m][\u001b[38;5;34m0\u001b[0m]  │\n",
       "│ (\u001b[38;5;33mUpSampling1D\u001b[0m)      │                   │            │                   │\n",
       "├─────────────────────┼───────────────────┼────────────┼───────────────────┤\n",
       "│ concatenate_28      │ (\u001b[38;5;45mNone\u001b[0m, \u001b[38;5;34m1500\u001b[0m, \u001b[38;5;34m384\u001b[0m) │          \u001b[38;5;34m0\u001b[0m │ up_sampling1d_23… │\n",
       "│ (\u001b[38;5;33mConcatenate\u001b[0m)       │                   │            │ conv1d_130[\u001b[38;5;34m0\u001b[0m][\u001b[38;5;34m0\u001b[0m]  │\n",
       "├─────────────────────┼───────────────────┼────────────┼───────────────────┤\n",
       "│ conv1d_137 (\u001b[38;5;33mConv1D\u001b[0m) │ (\u001b[38;5;45mNone\u001b[0m, \u001b[38;5;34m1500\u001b[0m, \u001b[38;5;34m128\u001b[0m) │    \u001b[38;5;34m147,584\u001b[0m │ concatenate_28[\u001b[38;5;34m0\u001b[0m… │\n",
       "├─────────────────────┼───────────────────┼────────────┼───────────────────┤\n",
       "│ conv1d_138 (\u001b[38;5;33mConv1D\u001b[0m) │ (\u001b[38;5;45mNone\u001b[0m, \u001b[38;5;34m1500\u001b[0m, \u001b[38;5;34m128\u001b[0m) │     \u001b[38;5;34m49,280\u001b[0m │ conv1d_137[\u001b[38;5;34m0\u001b[0m][\u001b[38;5;34m0\u001b[0m]  │\n",
       "├─────────────────────┼───────────────────┼────────────┼───────────────────┤\n",
       "│ up_sampling1d_24    │ (\u001b[38;5;45mNone\u001b[0m, \u001b[38;5;34m3000\u001b[0m, \u001b[38;5;34m128\u001b[0m) │          \u001b[38;5;34m0\u001b[0m │ conv1d_138[\u001b[38;5;34m0\u001b[0m][\u001b[38;5;34m0\u001b[0m]  │\n",
       "│ (\u001b[38;5;33mUpSampling1D\u001b[0m)      │                   │            │                   │\n",
       "├─────────────────────┼───────────────────┼────────────┼───────────────────┤\n",
       "│ concatenate_29      │ (\u001b[38;5;45mNone\u001b[0m, \u001b[38;5;34m3000\u001b[0m, \u001b[38;5;34m192\u001b[0m) │          \u001b[38;5;34m0\u001b[0m │ up_sampling1d_24… │\n",
       "│ (\u001b[38;5;33mConcatenate\u001b[0m)       │                   │            │ conv1d_128[\u001b[38;5;34m0\u001b[0m][\u001b[38;5;34m0\u001b[0m]  │\n",
       "├─────────────────────┼───────────────────┼────────────┼───────────────────┤\n",
       "│ conv1d_139 (\u001b[38;5;33mConv1D\u001b[0m) │ (\u001b[38;5;45mNone\u001b[0m, \u001b[38;5;34m3000\u001b[0m, \u001b[38;5;34m64\u001b[0m)  │     \u001b[38;5;34m36,928\u001b[0m │ concatenate_29[\u001b[38;5;34m0\u001b[0m… │\n",
       "├─────────────────────┼───────────────────┼────────────┼───────────────────┤\n",
       "│ conv1d_140 (\u001b[38;5;33mConv1D\u001b[0m) │ (\u001b[38;5;45mNone\u001b[0m, \u001b[38;5;34m3000\u001b[0m, \u001b[38;5;34m64\u001b[0m)  │     \u001b[38;5;34m12,352\u001b[0m │ conv1d_139[\u001b[38;5;34m0\u001b[0m][\u001b[38;5;34m0\u001b[0m]  │\n",
       "├─────────────────────┼───────────────────┼────────────┼───────────────────┤\n",
       "│ global_average_poo… │ (\u001b[38;5;45mNone\u001b[0m, \u001b[38;5;34m64\u001b[0m)        │          \u001b[38;5;34m0\u001b[0m │ conv1d_140[\u001b[38;5;34m0\u001b[0m][\u001b[38;5;34m0\u001b[0m]  │\n",
       "│ (\u001b[38;5;33mGlobalAveragePool…\u001b[0m │                   │            │                   │\n",
       "├─────────────────────┼───────────────────┼────────────┼───────────────────┤\n",
       "│ dense_3 (\u001b[38;5;33mDense\u001b[0m)     │ (\u001b[38;5;45mNone\u001b[0m, \u001b[38;5;34m5\u001b[0m)         │        \u001b[38;5;34m325\u001b[0m │ global_average_p… │\n",
       "└─────────────────────┴───────────────────┴────────────┴───────────────────┘\n"
      ]
     },
     "metadata": {},
     "output_type": "display_data"
    },
    {
     "data": {
      "text/html": [
       "<pre style=\"white-space:pre;overflow-x:auto;line-height:normal;font-family:Menlo,'DejaVu Sans Mono',consolas,'Courier New',monospace\"><span style=\"font-weight: bold\"> Total params: </span><span style=\"color: #00af00; text-decoration-color: #00af00\">2,597,253</span> (9.91 MB)\n",
       "</pre>\n"
      ],
      "text/plain": [
       "\u001b[1m Total params: \u001b[0m\u001b[38;5;34m2,597,253\u001b[0m (9.91 MB)\n"
      ]
     },
     "metadata": {},
     "output_type": "display_data"
    },
    {
     "data": {
      "text/html": [
       "<pre style=\"white-space:pre;overflow-x:auto;line-height:normal;font-family:Menlo,'DejaVu Sans Mono',consolas,'Courier New',monospace\"><span style=\"font-weight: bold\"> Trainable params: </span><span style=\"color: #00af00; text-decoration-color: #00af00\">2,597,253</span> (9.91 MB)\n",
       "</pre>\n"
      ],
      "text/plain": [
       "\u001b[1m Trainable params: \u001b[0m\u001b[38;5;34m2,597,253\u001b[0m (9.91 MB)\n"
      ]
     },
     "metadata": {},
     "output_type": "display_data"
    },
    {
     "data": {
      "text/html": [
       "<pre style=\"white-space:pre;overflow-x:auto;line-height:normal;font-family:Menlo,'DejaVu Sans Mono',consolas,'Courier New',monospace\"><span style=\"font-weight: bold\"> Non-trainable params: </span><span style=\"color: #00af00; text-decoration-color: #00af00\">0</span> (0.00 B)\n",
       "</pre>\n"
      ],
      "text/plain": [
       "\u001b[1m Non-trainable params: \u001b[0m\u001b[38;5;34m0\u001b[0m (0.00 B)\n"
      ]
     },
     "metadata": {},
     "output_type": "display_data"
    }
   ],
   "source": [
    "import tensorflow as tf\n",
    "from tensorflow.keras.models import Model\n",
    "from tensorflow.keras.layers import Input, Conv1D, MaxPooling1D, UpSampling1D, concatenate, Dropout, Conv1DTranspose, BatchNormalization, Activation\n",
    "from tensorflow.keras.utils import to_categorical\n",
    "from tensorflow.keras.callbacks import EarlyStopping\n",
    "\n",
    "# Assuming y_train_res has been one-hot encoded\n",
    "y_train_res_one_hot = to_categorical(y_train_res, num_classes=5)\n",
    "\n",
    "def unet_model(input_shape=(3000, 7), num_classes=5):\n",
    "    inputs = Input(input_shape)\n",
    "    \n",
    "    # Downsampling Path\n",
    "    conv1 = Conv1D(64, 3, activation='relu', padding='same')(inputs)\n",
    "    conv1 = Conv1D(64, 3, activation='relu', padding='same')(conv1)\n",
    "    pool1 = MaxPooling1D(pool_size=2)(conv1)\n",
    "    \n",
    "    conv2 = Conv1D(128, 3, activation='relu', padding='same')(pool1)\n",
    "    conv2 = Conv1D(128, 3, activation='relu', padding='same')(conv2)\n",
    "    pool2 = MaxPooling1D(pool_size=2)(conv2)\n",
    "    \n",
    "    conv3 = Conv1D(256, 3, activation='relu', padding='same')(pool2)\n",
    "    conv3 = Conv1D(256, 3, activation='relu', padding='same')(conv3)\n",
    "    pool3 = MaxPooling1D(pool_size=2)(conv3)\n",
    "    \n",
    "    # Bottleneck\n",
    "    conv4 = Conv1D(512, 3, activation='relu', padding='same')(pool3)\n",
    "    conv4 = Conv1D(512, 3, activation='relu', padding='same')(conv4)\n",
    "    \n",
    "    # Upsampling Path\n",
    "    up7 = concatenate([UpSampling1D(size=2)(conv4), conv3], axis=-1)\n",
    "    conv7 = Conv1D(256, 3, activation='relu', padding='same')(up7)\n",
    "    conv7 = Conv1D(256, 3, activation='relu', padding='same')(conv7)\n",
    "\n",
    "    up8 = concatenate([UpSampling1D(size=2)(conv7), conv2], axis=-1)\n",
    "    conv8 = Conv1D(128, 3, activation='relu', padding='same')(up8)\n",
    "    conv8 = Conv1D(128, 3, activation='relu', padding='same')(conv8)\n",
    "\n",
    "    up9 = concatenate([UpSampling1D(size=2)(conv8), conv1], axis=-1)\n",
    "    conv9 = Conv1D(64, 3, activation='relu', padding='same')(up9)\n",
    "    conv9 = Conv1D(64, 3, activation='relu', padding='same')(conv9)\n",
    "    gap = GlobalAveragePooling1D()(conv9)  # use conv9 from the last upsample layer\n",
    "\n",
    "    # Output Layer\n",
    "    # conv10 = Conv1D(num_classes, 1, activation='softmax')(gap)\n",
    "    output = Dense(num_classes, activation='softmax')(gap)\n",
    "\n",
    "    model = Model(inputs=[inputs], outputs=[output])\n",
    "    model.compile(optimizer='adam', loss='categorical_crossentropy', metrics=['accuracy'])\n",
    "    \n",
    "    return model\n",
    "\n",
    "# Create and compile the model\n",
    "model = unet_model()\n",
    "# Configure Early Stopping\n",
    "early_stopping = EarlyStopping(monitor='val_loss', patience=15, restore_best_weights=True)\n",
    "\n",
    "# Model summary\n",
    "model.summary()\n"
   ]
  },
  {
   "cell_type": "code",
   "execution_count": 52,
   "id": "3afd802e-647d-4fd9-8dcd-fea6044e397a",
   "metadata": {},
   "outputs": [],
   "source": [
    "# Example fit call; replace with actual data and parameters\n",
    "X_train_res = np.transpose(X_train_res, (0, 2, 1))  # Reshape from (15390, 7, 3000) to (15390, 3000, 7)"
   ]
  },
  {
   "cell_type": "code",
   "execution_count": 53,
   "id": "41333c3c-4f8c-4246-b6b0-b484c15a9508",
   "metadata": {},
   "outputs": [
    {
     "data": {
      "text/plain": [
       "(15390, 3000, 7)"
      ]
     },
     "execution_count": 53,
     "metadata": {},
     "output_type": "execute_result"
    }
   ],
   "source": [
    "X_train_res.shape"
   ]
  },
  {
   "cell_type": "code",
   "execution_count": 54,
   "id": "f59b636c-f3fb-4869-84d5-4a54d00a425a",
   "metadata": {},
   "outputs": [
    {
     "name": "stdout",
     "output_type": "stream",
     "text": [
      "Epoch 1/100\n",
      "\u001b[1m385/385\u001b[0m \u001b[32m━━━━━━━━━━━━━━━━━━━━\u001b[0m\u001b[37m\u001b[0m \u001b[1m2469s\u001b[0m 6s/step - accuracy: 0.6710 - loss: 0.7952 - val_accuracy: 0.0737 - val_loss: 3.8721\n",
      "Epoch 2/100\n",
      "\u001b[1m385/385\u001b[0m \u001b[32m━━━━━━━━━━━━━━━━━━━━\u001b[0m\u001b[37m\u001b[0m \u001b[1m9117s\u001b[0m 24s/step - accuracy: 0.8989 - loss: 0.3053 - val_accuracy: 0.1170 - val_loss: 1.5908\n",
      "Epoch 3/100\n",
      "\u001b[1m385/385\u001b[0m \u001b[32m━━━━━━━━━━━━━━━━━━━━\u001b[0m\u001b[37m\u001b[0m \u001b[1m5338s\u001b[0m 14s/step - accuracy: 0.9139 - loss: 0.2687 - val_accuracy: 0.1491 - val_loss: 1.9322\n",
      "Epoch 4/100\n",
      "\u001b[1m385/385\u001b[0m \u001b[32m━━━━━━━━━━━━━━━━━━━━\u001b[0m\u001b[37m\u001b[0m \u001b[1m10837s\u001b[0m 28s/step - accuracy: 0.9206 - loss: 0.2381 - val_accuracy: 0.1014 - val_loss: 2.4167\n",
      "Epoch 5/100\n",
      "\u001b[1m385/385\u001b[0m \u001b[32m━━━━━━━━━━━━━━━━━━━━\u001b[0m\u001b[37m\u001b[0m \u001b[1m2312s\u001b[0m 6s/step - accuracy: 0.9238 - loss: 0.2178 - val_accuracy: 0.0806 - val_loss: 4.1652\n",
      "Epoch 6/100\n",
      "\u001b[1m385/385\u001b[0m \u001b[32m━━━━━━━━━━━━━━━━━━━━\u001b[0m\u001b[37m\u001b[0m \u001b[1m2428s\u001b[0m 6s/step - accuracy: 0.9248 - loss: 0.2311 - val_accuracy: 0.0900 - val_loss: 3.4954\n",
      "Epoch 7/100\n",
      "\u001b[1m385/385\u001b[0m \u001b[32m━━━━━━━━━━━━━━━━━━━━\u001b[0m\u001b[37m\u001b[0m \u001b[1m2909s\u001b[0m 8s/step - accuracy: 0.9449 - loss: 0.1739 - val_accuracy: 0.2135 - val_loss: 2.0231\n",
      "Epoch 8/100\n",
      "\u001b[1m385/385\u001b[0m \u001b[32m━━━━━━━━━━━━━━━━━━━━\u001b[0m\u001b[37m\u001b[0m \u001b[1m2396s\u001b[0m 6s/step - accuracy: 0.9408 - loss: 0.1707 - val_accuracy: 0.3298 - val_loss: 1.7807\n",
      "Epoch 9/100\n",
      "\u001b[1m385/385\u001b[0m \u001b[32m━━━━━━━━━━━━━━━━━━━━\u001b[0m\u001b[37m\u001b[0m \u001b[1m2358s\u001b[0m 6s/step - accuracy: 0.9485 - loss: 0.1589 - val_accuracy: 0.3519 - val_loss: 1.6943\n",
      "Epoch 10/100\n",
      "\u001b[1m385/385\u001b[0m \u001b[32m━━━━━━━━━━━━━━━━━━━━\u001b[0m\u001b[37m\u001b[0m \u001b[1m2377s\u001b[0m 6s/step - accuracy: 0.9531 - loss: 0.1443 - val_accuracy: 0.3434 - val_loss: 1.8037\n",
      "Epoch 11/100\n",
      "\u001b[1m385/385\u001b[0m \u001b[32m━━━━━━━━━━━━━━━━━━━━\u001b[0m\u001b[37m\u001b[0m \u001b[1m2341s\u001b[0m 6s/step - accuracy: 0.9576 - loss: 0.1278 - val_accuracy: 0.4571 - val_loss: 1.5829\n",
      "Epoch 12/100\n",
      "\u001b[1m385/385\u001b[0m \u001b[32m━━━━━━━━━━━━━━━━━━━━\u001b[0m\u001b[37m\u001b[0m \u001b[1m2371s\u001b[0m 6s/step - accuracy: 0.9541 - loss: 0.1350 - val_accuracy: 0.2989 - val_loss: 2.0325\n",
      "Epoch 13/100\n",
      "\u001b[1m385/385\u001b[0m \u001b[32m━━━━━━━━━━━━━━━━━━━━\u001b[0m\u001b[37m\u001b[0m \u001b[1m2257s\u001b[0m 6s/step - accuracy: 0.9614 - loss: 0.1170 - val_accuracy: 0.2112 - val_loss: 3.7759\n",
      "Epoch 14/100\n",
      "\u001b[1m385/385\u001b[0m \u001b[32m━━━━━━━━━━━━━━━━━━━━\u001b[0m\u001b[37m\u001b[0m \u001b[1m2815s\u001b[0m 7s/step - accuracy: 0.9669 - loss: 0.1030 - val_accuracy: 0.1634 - val_loss: 3.2930\n",
      "Epoch 15/100\n",
      "\u001b[1m385/385\u001b[0m \u001b[32m━━━━━━━━━━━━━━━━━━━━\u001b[0m\u001b[37m\u001b[0m \u001b[1m3446s\u001b[0m 9s/step - accuracy: 0.9633 - loss: 0.1123 - val_accuracy: 0.4604 - val_loss: 1.6662\n",
      "Epoch 16/100\n",
      "\u001b[1m385/385\u001b[0m \u001b[32m━━━━━━━━━━━━━━━━━━━━\u001b[0m\u001b[37m\u001b[0m \u001b[1m3408s\u001b[0m 9s/step - accuracy: 0.9677 - loss: 0.0943 - val_accuracy: 0.3424 - val_loss: 2.5251\n",
      "Epoch 17/100\n",
      "\u001b[1m385/385\u001b[0m \u001b[32m━━━━━━━━━━━━━━━━━━━━\u001b[0m\u001b[37m\u001b[0m \u001b[1m3423s\u001b[0m 9s/step - accuracy: 0.9673 - loss: 0.1069 - val_accuracy: 0.6111 - val_loss: 0.9826\n",
      "Epoch 18/100\n",
      "\u001b[1m385/385\u001b[0m \u001b[32m━━━━━━━━━━━━━━━━━━━━\u001b[0m\u001b[37m\u001b[0m \u001b[1m3413s\u001b[0m 9s/step - accuracy: 0.9748 - loss: 0.0700 - val_accuracy: 0.5279 - val_loss: 1.1565\n",
      "Epoch 19/100\n",
      "\u001b[1m385/385\u001b[0m \u001b[32m━━━━━━━━━━━━━━━━━━━━\u001b[0m\u001b[37m\u001b[0m \u001b[1m3444s\u001b[0m 9s/step - accuracy: 0.9756 - loss: 0.0733 - val_accuracy: 0.5172 - val_loss: 1.3177\n",
      "Epoch 20/100\n",
      "\u001b[1m385/385\u001b[0m \u001b[32m━━━━━━━━━━━━━━━━━━━━\u001b[0m\u001b[37m\u001b[0m \u001b[1m3333s\u001b[0m 9s/step - accuracy: 0.9813 - loss: 0.0621 - val_accuracy: 0.4129 - val_loss: 1.8133\n",
      "Epoch 21/100\n",
      "\u001b[1m385/385\u001b[0m \u001b[32m━━━━━━━━━━━━━━━━━━━━\u001b[0m\u001b[37m\u001b[0m \u001b[1m2436s\u001b[0m 6s/step - accuracy: 0.9775 - loss: 0.0666 - val_accuracy: 0.5387 - val_loss: 1.5570\n",
      "Epoch 22/100\n",
      "\u001b[1m385/385\u001b[0m \u001b[32m━━━━━━━━━━━━━━━━━━━━\u001b[0m\u001b[37m\u001b[0m \u001b[1m2299s\u001b[0m 6s/step - accuracy: 0.9851 - loss: 0.0513 - val_accuracy: 0.4305 - val_loss: 1.9319\n",
      "Epoch 23/100\n",
      "\u001b[1m385/385\u001b[0m \u001b[32m━━━━━━━━━━━━━━━━━━━━\u001b[0m\u001b[37m\u001b[0m \u001b[1m2299s\u001b[0m 6s/step - accuracy: 0.9789 - loss: 0.0624 - val_accuracy: 0.6277 - val_loss: 1.0201\n",
      "Epoch 24/100\n",
      "\u001b[1m385/385\u001b[0m \u001b[32m━━━━━━━━━━━━━━━━━━━━\u001b[0m\u001b[37m\u001b[0m \u001b[1m2336s\u001b[0m 6s/step - accuracy: 0.9807 - loss: 0.0652 - val_accuracy: 0.7141 - val_loss: 0.8129\n",
      "Epoch 25/100\n",
      "\u001b[1m385/385\u001b[0m \u001b[32m━━━━━━━━━━━━━━━━━━━━\u001b[0m\u001b[37m\u001b[0m \u001b[1m2318s\u001b[0m 6s/step - accuracy: 0.9867 - loss: 0.0411 - val_accuracy: 0.5718 - val_loss: 1.2442\n",
      "Epoch 26/100\n",
      "\u001b[1m385/385\u001b[0m \u001b[32m━━━━━━━━━━━━━━━━━━━━\u001b[0m\u001b[37m\u001b[0m \u001b[1m2564s\u001b[0m 7s/step - accuracy: 0.9759 - loss: 0.0753 - val_accuracy: 0.5218 - val_loss: 1.6986\n",
      "Epoch 27/100\n",
      "\u001b[1m385/385\u001b[0m \u001b[32m━━━━━━━━━━━━━━━━━━━━\u001b[0m\u001b[37m\u001b[0m \u001b[1m3541s\u001b[0m 9s/step - accuracy: 0.9844 - loss: 0.0464 - val_accuracy: 0.6072 - val_loss: 1.2978\n",
      "Epoch 28/100\n",
      "\u001b[1m385/385\u001b[0m \u001b[32m━━━━━━━━━━━━━━━━━━━━\u001b[0m\u001b[37m\u001b[0m \u001b[1m2928s\u001b[0m 8s/step - accuracy: 0.9840 - loss: 0.0529 - val_accuracy: 0.4295 - val_loss: 2.5275\n",
      "Epoch 29/100\n",
      "\u001b[1m385/385\u001b[0m \u001b[32m━━━━━━━━━━━━━━━━━━━━\u001b[0m\u001b[37m\u001b[0m \u001b[1m2441s\u001b[0m 6s/step - accuracy: 0.9875 - loss: 0.0365 - val_accuracy: 0.7433 - val_loss: 0.6604\n",
      "Epoch 30/100\n",
      "\u001b[1m385/385\u001b[0m \u001b[32m━━━━━━━━━━━━━━━━━━━━\u001b[0m\u001b[37m\u001b[0m \u001b[1m2347s\u001b[0m 6s/step - accuracy: 0.9887 - loss: 0.0350 - val_accuracy: 0.4022 - val_loss: 2.2820\n",
      "Epoch 31/100\n",
      "\u001b[1m385/385\u001b[0m \u001b[32m━━━━━━━━━━━━━━━━━━━━\u001b[0m\u001b[37m\u001b[0m \u001b[1m2378s\u001b[0m 6s/step - accuracy: 0.9864 - loss: 0.0420 - val_accuracy: 0.6634 - val_loss: 0.9681\n",
      "Epoch 32/100\n",
      "\u001b[1m385/385\u001b[0m \u001b[32m━━━━━━━━━━━━━━━━━━━━\u001b[0m\u001b[37m\u001b[0m \u001b[1m2389s\u001b[0m 6s/step - accuracy: 0.9796 - loss: 0.0586 - val_accuracy: 0.7044 - val_loss: 0.8480\n",
      "Epoch 33/100\n",
      "\u001b[1m385/385\u001b[0m \u001b[32m━━━━━━━━━━━━━━━━━━━━\u001b[0m\u001b[37m\u001b[0m \u001b[1m2515s\u001b[0m 7s/step - accuracy: 0.9858 - loss: 0.0425 - val_accuracy: 0.7469 - val_loss: 0.6977\n",
      "Epoch 34/100\n",
      "\u001b[1m385/385\u001b[0m \u001b[32m━━━━━━━━━━━━━━━━━━━━\u001b[0m\u001b[37m\u001b[0m \u001b[1m2419s\u001b[0m 6s/step - accuracy: 0.9891 - loss: 0.0311 - val_accuracy: 0.7853 - val_loss: 0.6372\n",
      "Epoch 35/100\n",
      "\u001b[1m385/385\u001b[0m \u001b[32m━━━━━━━━━━━━━━━━━━━━\u001b[0m\u001b[37m\u001b[0m \u001b[1m2384s\u001b[0m 6s/step - accuracy: 0.9878 - loss: 0.0359 - val_accuracy: 0.6157 - val_loss: 1.1821\n",
      "Epoch 36/100\n",
      "\u001b[1m385/385\u001b[0m \u001b[32m━━━━━━━━━━━━━━━━━━━━\u001b[0m\u001b[37m\u001b[0m \u001b[1m2426s\u001b[0m 6s/step - accuracy: 0.9919 - loss: 0.0243 - val_accuracy: 0.6248 - val_loss: 1.3709\n",
      "Epoch 37/100\n",
      "\u001b[1m385/385\u001b[0m \u001b[32m━━━━━━━━━━━━━━━━━━━━\u001b[0m\u001b[37m\u001b[0m \u001b[1m2450s\u001b[0m 6s/step - accuracy: 0.9907 - loss: 0.0285 - val_accuracy: 0.9032 - val_loss: 0.2688\n",
      "Epoch 38/100\n",
      "\u001b[1m385/385\u001b[0m \u001b[32m━━━━━━━━━━━━━━━━━━━━\u001b[0m\u001b[37m\u001b[0m \u001b[1m2912s\u001b[0m 8s/step - accuracy: 0.9860 - loss: 0.0399 - val_accuracy: 0.6858 - val_loss: 0.9947\n",
      "Epoch 39/100\n",
      "\u001b[1m385/385\u001b[0m \u001b[32m━━━━━━━━━━━━━━━━━━━━\u001b[0m\u001b[37m\u001b[0m \u001b[1m4906s\u001b[0m 13s/step - accuracy: 0.9937 - loss: 0.0216 - val_accuracy: 0.8249 - val_loss: 0.4660\n",
      "Epoch 40/100\n",
      "\u001b[1m385/385\u001b[0m \u001b[32m━━━━━━━━━━━━━━━━━━━━\u001b[0m\u001b[37m\u001b[0m \u001b[1m3119s\u001b[0m 8s/step - accuracy: 0.9829 - loss: 0.0555 - val_accuracy: 0.6118 - val_loss: 1.2431\n",
      "Epoch 41/100\n",
      "\u001b[1m385/385\u001b[0m \u001b[32m━━━━━━━━━━━━━━━━━━━━\u001b[0m\u001b[37m\u001b[0m \u001b[1m2348s\u001b[0m 6s/step - accuracy: 0.9934 - loss: 0.0180 - val_accuracy: 0.5484 - val_loss: 2.1355\n",
      "Epoch 42/100\n",
      "\u001b[1m385/385\u001b[0m \u001b[32m━━━━━━━━━━━━━━━━━━━━\u001b[0m\u001b[37m\u001b[0m \u001b[1m2353s\u001b[0m 6s/step - accuracy: 0.9915 - loss: 0.0236 - val_accuracy: 0.6472 - val_loss: 1.5280\n",
      "Epoch 43/100\n",
      "\u001b[1m385/385\u001b[0m \u001b[32m━━━━━━━━━━━━━━━━━━━━\u001b[0m\u001b[37m\u001b[0m \u001b[1m2321s\u001b[0m 6s/step - accuracy: 0.9931 - loss: 0.0219 - val_accuracy: 0.5234 - val_loss: 1.8876\n",
      "Epoch 44/100\n",
      "\u001b[1m385/385\u001b[0m \u001b[32m━━━━━━━━━━━━━━━━━━━━\u001b[0m\u001b[37m\u001b[0m \u001b[1m2354s\u001b[0m 6s/step - accuracy: 0.9934 - loss: 0.0240 - val_accuracy: 0.7982 - val_loss: 0.6093\n",
      "Epoch 45/100\n",
      "\u001b[1m385/385\u001b[0m \u001b[32m━━━━━━━━━━━━━━━━━━━━\u001b[0m\u001b[37m\u001b[0m \u001b[1m3117s\u001b[0m 8s/step - accuracy: 0.9936 - loss: 0.0183 - val_accuracy: 0.5146 - val_loss: 2.2003\n",
      "Epoch 46/100\n",
      "\u001b[1m385/385\u001b[0m \u001b[32m━━━━━━━━━━━━━━━━━━━━\u001b[0m\u001b[37m\u001b[0m \u001b[1m3745s\u001b[0m 10s/step - accuracy: 0.9790 - loss: 0.0733 - val_accuracy: 0.7001 - val_loss: 0.9900\n",
      "Epoch 47/100\n",
      "\u001b[1m385/385\u001b[0m \u001b[32m━━━━━━━━━━━━━━━━━━━━\u001b[0m\u001b[37m\u001b[0m \u001b[1m3667s\u001b[0m 10s/step - accuracy: 0.9954 - loss: 0.0170 - val_accuracy: 0.6858 - val_loss: 1.2007\n",
      "Epoch 48/100\n",
      "\u001b[1m385/385\u001b[0m \u001b[32m━━━━━━━━━━━━━━━━━━━━\u001b[0m\u001b[37m\u001b[0m \u001b[1m3688s\u001b[0m 10s/step - accuracy: 0.9985 - loss: 0.0042 - val_accuracy: 0.6043 - val_loss: 1.6179\n",
      "Epoch 49/100\n",
      "\u001b[1m385/385\u001b[0m \u001b[32m━━━━━━━━━━━━━━━━━━━━\u001b[0m\u001b[37m\u001b[0m \u001b[1m3581s\u001b[0m 9s/step - accuracy: 0.9860 - loss: 0.0417 - val_accuracy: 0.5565 - val_loss: 1.7730\n",
      "Epoch 50/100\n",
      "\u001b[1m385/385\u001b[0m \u001b[32m━━━━━━━━━━━━━━━━━━━━\u001b[0m\u001b[37m\u001b[0m \u001b[1m2994s\u001b[0m 8s/step - accuracy: 0.9942 - loss: 0.0262 - val_accuracy: 0.6524 - val_loss: 1.0537\n",
      "Epoch 51/100\n",
      "\u001b[1m385/385\u001b[0m \u001b[32m━━━━━━━━━━━━━━━━━━━━\u001b[0m\u001b[37m\u001b[0m \u001b[1m2412s\u001b[0m 6s/step - accuracy: 0.9941 - loss: 0.0185 - val_accuracy: 0.4357 - val_loss: 2.3213\n",
      "Epoch 52/100\n",
      "\u001b[1m385/385\u001b[0m \u001b[32m━━━━━━━━━━━━━━━━━━━━\u001b[0m\u001b[37m\u001b[0m \u001b[1m2369s\u001b[0m 6s/step - accuracy: 0.9925 - loss: 0.0232 - val_accuracy: 0.7021 - val_loss: 1.0438\n"
     ]
    }
   ],
   "source": [
    "history = model.fit(X_train_res, y_train_res_one_hot, epochs=40, batch_size=32, validation_split=0.2, callbacks=[early_stopping])\n"
   ]
  },
  {
   "cell_type": "code",
   "execution_count": 55,
   "id": "2a620bcb-232c-49d5-ad6e-888e8ec0676e",
   "metadata": {},
   "outputs": [
    {
     "name": "stderr",
     "output_type": "stream",
     "text": [
      "WARNING:absl:You are saving your model as an HDF5 file via `model.save()` or `keras.saving.save_model(model)`. This file format is considered legacy. We recommend using instead the native Keras format, e.g. `model.save('my_model.keras')` or `keras.saving.save_model(model, 'my_model.keras')`. \n"
     ]
    },
    {
     "name": "stdout",
     "output_type": "stream",
     "text": [
      "Model saved as 'unet_model_final.h5'.\n"
     ]
    }
   ],
   "source": [
    "model.save('unet_model_final.h5')\n",
    "print(\"Model saved as 'unet_model_final.h5'.\")\n"
   ]
  },
  {
   "cell_type": "code",
   "execution_count": 138,
   "id": "6b1c9edc-6114-4749-9bcc-bf4edc589f85",
   "metadata": {},
   "outputs": [
    {
     "name": "stderr",
     "output_type": "stream",
     "text": [
      "WARNING:absl:Compiled the loaded model, but the compiled metrics have yet to be built. `model.compile_metrics` will be empty until you train or evaluate the model.\n"
     ]
    },
    {
     "name": "stdout",
     "output_type": "stream",
     "text": [
      "Model loaded successfully.\n"
     ]
    }
   ],
   "source": [
    "from tensorflow.keras.models import load_model\n",
    "\n",
    "# Load the previously saved model\n",
    "model_path = 'unet_model_final.h5'\n",
    "loaded_model = load_model(model_path)\n",
    "print(\"Model loaded successfully.\")"
   ]
  },
  {
   "cell_type": "code",
   "execution_count": 139,
   "id": "a6c8a835-95fe-48bd-9827-5476a7dc4a21",
   "metadata": {},
   "outputs": [
    {
     "name": "stdout",
     "output_type": "stream",
     "text": [
      "\u001b[1m35/35\u001b[0m \u001b[32m━━━━━━━━━━━━━━━━━━━━\u001b[0m\u001b[37m\u001b[0m \u001b[1m32s\u001b[0m 902ms/step\n",
      "Predictions completed.\n"
     ]
    }
   ],
   "source": [
    "# Assuming new_data is preprocessed and ready to be fed into the model\n",
    "# Example new_data shape should match (None, 3000, 7)\n",
    "X_test_scaled = np.transpose(X_test_scaled, (0, 2, 1))  \n",
    "# Predict using the loaded model\n",
    "predictions = loaded_model.predict(X_test_scaled)\n",
    "print(\"Predictions completed.\")"
   ]
  },
  {
   "cell_type": "code",
   "execution_count": 140,
   "id": "6b36160b-8f21-483b-bc29-403fa6d21405",
   "metadata": {},
   "outputs": [
    {
     "data": {
      "text/plain": [
       "array([[9.9331927e-01, 6.6807773e-03, 8.7993736e-18, 1.2416628e-33,\n",
       "        4.4214146e-10],\n",
       "       [1.0000000e+00, 5.9626612e-26, 2.5663825e-30, 1.2950892e-22,\n",
       "        4.2775293e-14],\n",
       "       [1.0000000e+00, 1.4937697e-14, 9.5677550e-18, 5.5756592e-15,\n",
       "        2.6702695e-08],\n",
       "       ...,\n",
       "       [1.0000000e+00, 3.7695178e-21, 3.4909223e-34, 1.0738566e-27,\n",
       "        1.1620343e-17],\n",
       "       [1.0000000e+00, 4.7553578e-32, 1.8777445e-27, 4.5029139e-26,\n",
       "        2.8209639e-08],\n",
       "       [0.0000000e+00, 8.3056931e-21, 1.7761324e-01, 8.2238674e-01,\n",
       "        6.4128062e-21]], dtype=float32)"
      ]
     },
     "execution_count": 140,
     "metadata": {},
     "output_type": "execute_result"
    }
   ],
   "source": [
    "predictions"
   ]
  },
  {
   "cell_type": "code",
   "execution_count": 141,
   "id": "96eeb66e-4722-476c-bc32-3fa94c3359e8",
   "metadata": {},
   "outputs": [],
   "source": [
    "class_predictions = np.argmax(predictions, axis=1)"
   ]
  },
  {
   "cell_type": "code",
   "execution_count": 142,
   "id": "25268da2-97c5-47b8-8b0c-0d64145ac5a0",
   "metadata": {},
   "outputs": [
    {
     "name": "stdout",
     "output_type": "stream",
     "text": [
      "Accuracy score: 0.9495875343721356\n"
     ]
    }
   ],
   "source": [
    "acc = accuracy_score(y_test, class_predictions)\n",
    "print(\"Accuracy score: {}\".format(acc))"
   ]
  },
  {
   "cell_type": "code",
   "execution_count": 143,
   "id": "ab46d242-0708-4872-8d72-5128098bb9af",
   "metadata": {},
   "outputs": [
    {
     "name": "stdout",
     "output_type": "stream",
     "text": [
      "Final Model Accuracy: 94.96%\n",
      "Accuracy for Wake: 99.10%\n",
      "Accuracy for N1: 30.77%\n",
      "Accuracy for N2: 87.65%\n",
      "Accuracy for N3: 92.96%\n",
      "Accuracy for REM: 91.23%\n"
     ]
    }
   ],
   "source": [
    "final_accuracy = accuracy_score(y_test, class_predictions)\n",
    "print(\"Final Model Accuracy: {:.2f}%\".format(final_accuracy * 100))\n",
    "\n",
    "from sklearn.metrics import confusion_matrix\n",
    "# Calculate confusion matrix\n",
    "conf_matrix = confusion_matrix(y_test, class_predictions)\n",
    "\n",
    "# Calculate accuracy for each class\n",
    "class_accuracies = conf_matrix.diagonal() / conf_matrix.sum(axis=1)\n",
    "sleep_stages = ['Wake', 'N1', 'N2', 'N3', 'REM']\n",
    "\n",
    "# Print accuracies\n",
    "for stage, accuracy in zip(sleep_stages, class_accuracies):\n",
    "    print(f\"Accuracy for {stage}: {accuracy * 100:.2f}%\")"
   ]
  },
  {
   "cell_type": "code",
   "execution_count": 144,
   "id": "457001b2-295b-428a-b9d4-4aba312d8305",
   "metadata": {},
   "outputs": [
    {
     "name": "stdout",
     "output_type": "stream",
     "text": [
      "Cohen's Kappa statistic: 0.8921240972887652\n",
      "Cohen's Kappa for sleep stage 0: 0.9733207259566594\n",
      "Cohen's Kappa for sleep stage 1: 0.3794225387363199\n",
      "Cohen's Kappa for sleep stage 2: 0.8815980465305568\n",
      "Cohen's Kappa for sleep stage 3: 0.8586146569040368\n",
      "Cohen's Kappa for sleep stage 4: 0.8218747813377079\n"
     ]
    }
   ],
   "source": [
    "from sklearn.metrics import cohen_kappa_score\n",
    "import numpy as np\n",
    "\n",
    "# Compute Cohen's Kappa statistic\n",
    "kappa_value = cohen_kappa_score(y_test, class_predictions)\n",
    "\n",
    "# Output the Kappa value\n",
    "print(\"Cohen's Kappa statistic:\", kappa_value)\n",
    "\n",
    "# Identify unique sleep stages\n",
    "unique_stages = np.unique(y_test)\n",
    "\n",
    "# Dictionary to hold Kappa statistics for each stage\n",
    "kappa_statistics = {}\n",
    "\n",
    "# Compute Cohen's Kappa for each stage treated as binary classification\n",
    "for stage in unique_stages:\n",
    "    # Create binary labels for the current stage\n",
    "    true_binary = (y_test == stage).astype(int)\n",
    "    predicted_binary = (class_predictions == stage).astype(int)\n",
    "    \n",
    "    # Calculate the Kappa statistic\n",
    "    kappa = cohen_kappa_score(true_binary, predicted_binary)\n",
    "    kappa_statistics[stage] = kappa\n",
    "\n",
    "# Output the Kappa values for each sleep stage\n",
    "for stage, kappa in kappa_statistics.items():\n",
    "    print(f\"Cohen's Kappa for sleep stage {stage}: {kappa}\")"
   ]
  },
  {
   "cell_type": "code",
   "execution_count": 145,
   "id": "65cc138b-9a6a-4353-ab15-84310eaf969e",
   "metadata": {},
   "outputs": [
    {
     "name": "stdout",
     "output_type": "stream",
     "text": [
      "              precision    recall  f1-score   support\n",
      "\n",
      "        Wake       0.99      0.99      0.99       775\n",
      "          N1       0.53      0.31      0.39        26\n",
      "          N2       0.92      0.88      0.90       162\n",
      "          N3       0.81      0.93      0.87        71\n",
      "         REM       0.76      0.91      0.83        57\n",
      "\n",
      "    accuracy                           0.95      1091\n",
      "   macro avg       0.81      0.80      0.80      1091\n",
      "weighted avg       0.95      0.95      0.95      1091\n",
      "\n"
     ]
    }
   ],
   "source": [
    "from sklearn.metrics import classification_report\n",
    "report = classification_report(y_test, class_predictions, target_names=['Wake', 'N1', 'N2', 'N3', 'REM'])\n",
    "print(report)"
   ]
  },
  {
   "cell_type": "code",
   "execution_count": null,
   "id": "e4e10337-b64c-4f38-a328-7177dfc3eb9d",
   "metadata": {},
   "outputs": [],
   "source": []
  }
 ],
 "metadata": {
  "kernelspec": {
   "display_name": "env",
   "language": "python",
   "name": "python3"
  },
  "language_info": {
   "codemirror_mode": {
    "name": "ipython",
    "version": 3
   },
   "file_extension": ".py",
   "mimetype": "text/x-python",
   "name": "python",
   "nbconvert_exporter": "python",
   "pygments_lexer": "ipython3",
   "version": "3.12.0"
  }
 },
 "nbformat": 4,
 "nbformat_minor": 5
}
